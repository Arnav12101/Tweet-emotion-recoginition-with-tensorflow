{
 "cells": [
  {
   "cell_type": "code",
   "execution_count": 1,
   "id": "675bd96a",
   "metadata": {},
   "outputs": [
    {
     "name": "stdout",
     "output_type": "stream",
     "text": [
      "Collecting nlp\n",
      "  Downloading nlp-0.4.0-py3-none-any.whl (1.7 MB)\n",
      "     ---------------------------------------- 1.7/1.7 MB 1.4 MB/s eta 0:00:00\n",
      "Requirement already satisfied: requests>=2.19.0 in c:\\python\\python310\\lib\\site-packages (from nlp) (2.28.1)\n",
      "Requirement already satisfied: filelock in c:\\python\\python310\\lib\\site-packages (from nlp) (3.8.0)\n",
      "Requirement already satisfied: numpy in c:\\python\\python310\\lib\\site-packages (from nlp) (1.22.4)\n",
      "Requirement already satisfied: pandas in c:\\python\\python310\\lib\\site-packages (from nlp) (1.4.3)\n",
      "Collecting dill\n",
      "  Downloading dill-0.3.5.1-py2.py3-none-any.whl (95 kB)\n",
      "     ---------------------------------------- 95.8/95.8 kB 1.8 MB/s eta 0:00:00\n",
      "Collecting xxhash\n",
      "  Downloading xxhash-3.0.0-cp310-cp310-win_amd64.whl (29 kB)\n",
      "Collecting pyarrow>=0.16.0\n",
      "  Downloading pyarrow-9.0.0-cp310-cp310-win_amd64.whl (19.5 MB)\n",
      "     ---------------------------------------- 19.5/19.5 MB 1.1 MB/s eta 0:00:00\n",
      "Requirement already satisfied: tqdm>=4.27 in c:\\python\\python310\\lib\\site-packages (from nlp) (4.64.0)\n",
      "Requirement already satisfied: certifi>=2017.4.17 in c:\\python\\python310\\lib\\site-packages (from requests>=2.19.0->nlp) (2022.6.15)\n",
      "Requirement already satisfied: charset-normalizer<3,>=2 in c:\\python\\python310\\lib\\site-packages (from requests>=2.19.0->nlp) (2.1.1)\n",
      "Requirement already satisfied: idna<4,>=2.5 in c:\\python\\python310\\lib\\site-packages (from requests>=2.19.0->nlp) (3.3)\n",
      "Requirement already satisfied: urllib3<1.27,>=1.21.1 in c:\\python\\python310\\lib\\site-packages (from requests>=2.19.0->nlp) (1.26.12)\n",
      "Requirement already satisfied: colorama in c:\\python\\python310\\lib\\site-packages (from tqdm>=4.27->nlp) (0.4.4)\n",
      "Requirement already satisfied: pytz>=2020.1 in c:\\python\\python310\\lib\\site-packages (from pandas->nlp) (2022.2.1)\n",
      "Requirement already satisfied: python-dateutil>=2.8.1 in c:\\python\\python310\\lib\\site-packages (from pandas->nlp) (2.8.2)\n",
      "Requirement already satisfied: six>=1.5 in c:\\python\\python310\\lib\\site-packages (from python-dateutil>=2.8.1->pandas->nlp) (1.16.0)\n",
      "Installing collected packages: xxhash, pyarrow, dill, nlp\n",
      "Successfully installed dill-0.3.5.1 nlp-0.4.0 pyarrow-9.0.0 xxhash-3.0.0\n"
     ]
    }
   ],
   "source": [
    "!pip install nlp"
   ]
  },
  {
   "cell_type": "markdown",
   "id": "55f36610",
   "metadata": {},
   "source": [
    "# IMPORTING LIBRARIES"
   ]
  },
  {
   "cell_type": "code",
   "execution_count": 3,
   "id": "dbcc4551",
   "metadata": {},
   "outputs": [],
   "source": [
    "%matplotlib inline\n",
    "\n",
    "import tensorflow as tf\n",
    "import numpy as np\n",
    "import matplotlib.pyplot as plt\n",
    "import nlp\n",
    "import random"
   ]
  },
  {
   "cell_type": "code",
   "execution_count": 40,
   "id": "f8138e65",
   "metadata": {},
   "outputs": [
    {
     "name": "stdout",
     "output_type": "stream",
     "text": [
      "Using tensorflow version -->  2.9.1\n"
     ]
    }
   ],
   "source": [
    "def show_history(h):\n",
    "    epochs_trained = len(h.history['loss'])\n",
    "    plt.figure(figsize=(16,6))\n",
    "    \n",
    "    plt.subplot(1,2,1)\n",
    "    plt.plot(range(0, epochs_trained), h.history.get('accuracy'), label ='Training')\n",
    "    plt.plot(range(0, epochs_trained), h.history.get('val_accuracy'), label = 'Validation')\n",
    "    plt.ylim([0.,1.])\n",
    "    plt.xlabel('Epochs')\n",
    "    plt.ylabel('Accuracy')\n",
    "    plt.legend()\n",
    "    \n",
    "    plt.subplot(1,2,2)\n",
    "    plt.plot(range(0, epochs_trained), h.history.get('loss'), label = 'Training')\n",
    "    plt.plot(range(0, epochs_trained), h.history.get('val_loss'), label = 'Validation')\n",
    "    plt.xlabel('Epochs')\n",
    "    plt.ylabel('Loss')\n",
    "    plt.legend()\n",
    "    plt.show()\n",
    "    \n",
    "def show_confusion_matrix(y_true, y_pred, classes):\n",
    "    from sklearn.metrics import confusion_matrix\n",
    "    \n",
    "    cm = confusion_matrix(y_true, y_pred, normalize='true')\n",
    "    \n",
    "    plt.figure(figsize = (8,8))\n",
    "    sp = plt.subplot(1,1,1)\n",
    "    ctx = sp.matshow(cm)\n",
    "    plt.xticks(list(range(0,6)), labels=classes)\n",
    "    plt.yticks(list(range(0,6)), labels=classes)\n",
    "    plt.colorbar(ctx)\n",
    "    plt.show()\n",
    "    \n",
    "print('Using tensorflow version --> ', tf.__version__)\n",
    "    "
   ]
  },
  {
   "cell_type": "markdown",
   "id": "1a9bda4f",
   "metadata": {},
   "source": [
    "# IMPORTING DATASET"
   ]
  },
  {
   "cell_type": "code",
   "execution_count": 41,
   "id": "9eb66d24",
   "metadata": {},
   "outputs": [
    {
     "name": "stderr",
     "output_type": "stream",
     "text": [
      "Using custom data configuration default\n"
     ]
    }
   ],
   "source": [
    "# Importing tweet emotion dataset\n",
    "dataset = nlp.load_dataset('emotion')"
   ]
  },
  {
   "cell_type": "code",
   "execution_count": 42,
   "id": "5c98e064",
   "metadata": {},
   "outputs": [
    {
     "data": {
      "text/plain": [
       "{'train': Dataset(features: {'text': Value(dtype='string', id=None), 'label': Value(dtype='string', id=None)}, num_rows: 16000),\n",
       " 'validation': Dataset(features: {'text': Value(dtype='string', id=None), 'label': Value(dtype='string', id=None)}, num_rows: 2000),\n",
       " 'test': Dataset(features: {'text': Value(dtype='string', id=None), 'label': Value(dtype='string', id=None)}, num_rows: 2000)}"
      ]
     },
     "execution_count": 42,
     "metadata": {},
     "output_type": "execute_result"
    }
   ],
   "source": [
    "dataset"
   ]
  },
  {
   "cell_type": "code",
   "execution_count": 43,
   "id": "6c31b1f4",
   "metadata": {},
   "outputs": [],
   "source": [
    "train = dataset['train']\n",
    "val = dataset['validation']\n",
    "test = dataset['test']"
   ]
  },
  {
   "cell_type": "code",
   "execution_count": 44,
   "id": "60df524e",
   "metadata": {},
   "outputs": [],
   "source": [
    "def get_tweet(data):\n",
    "    tweets = [x['text'] for x in data]\n",
    "    labels = [x['label'] for x in data]\n",
    "    return tweets, labels"
   ]
  },
  {
   "cell_type": "code",
   "execution_count": 45,
   "id": "127a29cc",
   "metadata": {},
   "outputs": [],
   "source": [
    "tweets, labels = get_tweet(train)"
   ]
  },
  {
   "cell_type": "code",
   "execution_count": 46,
   "id": "2675c47d",
   "metadata": {},
   "outputs": [
    {
     "data": {
      "text/plain": [
       "('i wont let me child cry it out because i feel that loving her and lily when she was little was going to be opportunities that only lasted for those short few months',\n",
       " 'love')"
      ]
     },
     "execution_count": 46,
     "metadata": {},
     "output_type": "execute_result"
    }
   ],
   "source": [
    "tweets[100], labels[100]"
   ]
  },
  {
   "cell_type": "markdown",
   "id": "9c2cb9db",
   "metadata": {},
   "source": [
    "# TOKENIZING THE TWEETS"
   ]
  },
  {
   "cell_type": "code",
   "execution_count": 47,
   "id": "803f44da",
   "metadata": {},
   "outputs": [],
   "source": [
    "from tensorflow.keras.preprocessing.text import Tokenizer"
   ]
  },
  {
   "cell_type": "code",
   "execution_count": 48,
   "id": "636ebbd8",
   "metadata": {},
   "outputs": [],
   "source": [
    "tokenizer = Tokenizer(num_words = 10000, oov_token = '<UNK>')\n",
    "tokenizer.fit_on_texts(tweets)"
   ]
  },
  {
   "cell_type": "code",
   "execution_count": 49,
   "id": "6de03cf9",
   "metadata": {},
   "outputs": [
    {
     "data": {
      "image/png": "[encoded data removed]",
      "text/plain": [
       "<Figure size 432x288 with 1 Axes>"
      ]
     },
     "metadata": {
      "needs_background": "light"
     },
     "output_type": "display_data"
    }
   ],
   "source": [
    "lengths = [len(t.split(' ')) for t in tweets]\n",
    "plt.hist(lengths, bins = len(set(lengths)))\n",
    "plt.show()"
   ]
  },
  {
   "cell_type": "code",
   "execution_count": 50,
   "id": "0f20c9da",
   "metadata": {},
   "outputs": [],
   "source": [
    "maxlen = 50\n",
    "from tensorflow.keras.preprocessing.sequence import pad_sequences"
   ]
  },
  {
   "cell_type": "code",
   "execution_count": 51,
   "id": "abc2b8de",
   "metadata": {},
   "outputs": [],
   "source": [
    "def get_sequences(Tokenizer, tweets):\n",
    "    sequences = tokenizer.texts_to_sequences(tweets)\n",
    "    padded = pad_sequences(sequences, truncating = 'post', padding = 'post', maxlen = maxlen)\n",
    "    return padded"
   ]
  },
  {
   "cell_type": "code",
   "execution_count": 52,
   "id": "487c38f0",
   "metadata": {},
   "outputs": [],
   "source": [
    "padded_train_seq = get_sequences(tokenizer, tweets)"
   ]
  },
  {
   "cell_type": "code",
   "execution_count": 53,
   "id": "409bab48",
   "metadata": {},
   "outputs": [
    {
     "data": {
      "text/plain": [
       "array([  2, 139,   3, 679,   0,   0,   0,   0,   0,   0,   0,   0,   0,\n",
       "         0,   0,   0,   0,   0,   0,   0,   0,   0,   0,   0,   0,   0,\n",
       "         0,   0,   0,   0,   0,   0,   0,   0,   0,   0,   0,   0,   0,\n",
       "         0,   0,   0,   0,   0,   0,   0,   0,   0,   0,   0])"
      ]
     },
     "execution_count": 53,
     "metadata": {},
     "output_type": "execute_result"
    }
   ],
   "source": [
    "padded_train_seq[0]"
   ]
  },
  {
   "cell_type": "code",
   "execution_count": 54,
   "id": "0a797879",
   "metadata": {},
   "outputs": [
    {
     "name": "stdout",
     "output_type": "stream",
     "text": [
      "{'surprise', 'joy', 'fear', 'love', 'anger', 'sadness'}\n"
     ]
    }
   ],
   "source": [
    "classes = set(labels)\n",
    "print(classes)"
   ]
  },
  {
   "cell_type": "code",
   "execution_count": 55,
   "id": "43ceea15",
   "metadata": {},
   "outputs": [
    {
     "data": {
      "image/png": "[encoded data removed]",
      "text/plain": [
       "<Figure size 432x288 with 1 Axes>"
      ]
     },
     "metadata": {
      "needs_background": "light"
     },
     "output_type": "display_data"
    }
   ],
   "source": [
    "plt.hist(labels, bins = 11)\n",
    "plt.show()"
   ]
  },
  {
   "cell_type": "code",
   "execution_count": 56,
   "id": "3b28a9a7",
   "metadata": {},
   "outputs": [],
   "source": [
    "#CREATING DICTIONARIES\n",
    "class_to_index = dict((c,i) for i,c in enumerate(classes))\n",
    "index_to_class = dict((v,k) for k,v in class_to_index.items())"
   ]
  },
  {
   "cell_type": "code",
   "execution_count": 57,
   "id": "09551865",
   "metadata": {},
   "outputs": [
    {
     "data": {
      "text/plain": [
       "{'surprise': 0, 'joy': 1, 'fear': 2, 'love': 3, 'anger': 4, 'sadness': 5}"
      ]
     },
     "execution_count": 57,
     "metadata": {},
     "output_type": "execute_result"
    }
   ],
   "source": [
    "class_to_index"
   ]
  },
  {
   "cell_type": "code",
   "execution_count": 58,
   "id": "2d6e4e1b",
   "metadata": {},
   "outputs": [
    {
     "data": {
      "text/plain": [
       "{0: 'surprise', 1: 'joy', 2: 'fear', 3: 'love', 4: 'anger', 5: 'sadness'}"
      ]
     },
     "execution_count": 58,
     "metadata": {},
     "output_type": "execute_result"
    }
   ],
   "source": [
    "index_to_class"
   ]
  },
  {
   "cell_type": "code",
   "execution_count": 59,
   "id": "f588d5c2",
   "metadata": {},
   "outputs": [],
   "source": [
    "names_to_id = lambda labels: np.array([class_to_index.get(x) for x in labels])"
   ]
  },
  {
   "cell_type": "code",
   "execution_count": 60,
   "id": "3e97dfd8",
   "metadata": {},
   "outputs": [],
   "source": [
    "train_labels = names_to_id(labels)"
   ]
  },
  {
   "cell_type": "code",
   "execution_count": 61,
   "id": "17e9f217",
   "metadata": {},
   "outputs": [
    {
     "name": "stdout",
     "output_type": "stream",
     "text": [
      "5\n"
     ]
    }
   ],
   "source": [
    "print(train_labels[0])"
   ]
  },
  {
   "cell_type": "code",
   "execution_count": 62,
   "id": "3804176a",
   "metadata": {},
   "outputs": [],
   "source": [
    "model = tf.keras.models.Sequential([\n",
    "    tf.keras.layers.Embedding(10000, 16, input_length=maxlen),\n",
    "    tf.keras.layers.Bidirectional(tf.keras.layers.LSTM(20,return_sequences=True)),\n",
    "    tf.keras.layers.Bidirectional(tf.keras.layers.LSTM(20)),\n",
    "    tf.keras.layers.Dense(6,activation='softmax')\n",
    "])\n",
    "\n",
    "model.compile(\n",
    "    loss = 'sparse_categorical_crossentropy',\n",
    "    optimizer = 'adam',\n",
    "    metrics = ['accuracy']\n",
    ")"
   ]
  },
  {
   "cell_type": "code",
   "execution_count": 63,
   "id": "0bd2726e",
   "metadata": {},
   "outputs": [
    {
     "name": "stdout",
     "output_type": "stream",
     "text": [
      "Model: \"sequential_1\"\n",
      "_________________________________________________________________\n",
      " Layer (type)                Output Shape              Param #   \n",
      "=================================================================\n",
      " embedding_1 (Embedding)     (None, 50, 16)            160000    \n",
      "                                                                 \n",
      " bidirectional_2 (Bidirectio  (None, 50, 40)           5920      \n",
      " nal)                                                            \n",
      "                                                                 \n",
      " bidirectional_3 (Bidirectio  (None, 40)               9760      \n",
      " nal)                                                            \n",
      "                                                                 \n",
      " dense_1 (Dense)             (None, 6)                 246       \n",
      "                                                                 \n",
      "=================================================================\n",
      "Total params: 175,926\n",
      "Trainable params: 175,926\n",
      "Non-trainable params: 0\n",
      "_________________________________________________________________\n"
     ]
    }
   ],
   "source": [
    "model.summary()"
   ]
  },
  {
   "cell_type": "code",
   "execution_count": 64,
   "id": "48b85f14",
   "metadata": {},
   "outputs": [],
   "source": [
    "val_tweets, val_labels = get_tweet(val)\n",
    "val_seq = get_sequences(tokenizer, val_tweets)\n",
    "val_labels = names_to_id(val_labels)"
   ]
  },
  {
   "cell_type": "code",
   "execution_count": 65,
   "id": "f7dda7bc",
   "metadata": {},
   "outputs": [
    {
     "data": {
      "text/plain": [
       "('im feeling quite sad and sorry for myself but ill snap out of it soon', 5)"
      ]
     },
     "execution_count": 65,
     "metadata": {},
     "output_type": "execute_result"
    }
   ],
   "source": [
    "val_tweets[0], val_labels[0]"
   ]
  },
  {
   "cell_type": "code",
   "execution_count": 66,
   "id": "5e5f4194",
   "metadata": {},
   "outputs": [
    {
     "name": "stdout",
     "output_type": "stream",
     "text": [
      "Epoch 1/20\n",
      "500/500 [==============================] - 28s 41ms/step - loss: 1.3456 - accuracy: 0.4874 - val_loss: 1.0240 - val_accuracy: 0.6135\n",
      "Epoch 2/20\n",
      "500/500 [==============================] - 18s 37ms/step - loss: 0.7834 - accuracy: 0.7166 - val_loss: 0.6860 - val_accuracy: 0.7660\n",
      "Epoch 3/20\n",
      "500/500 [==============================] - 18s 37ms/step - loss: 0.4799 - accuracy: 0.8369 - val_loss: 0.5339 - val_accuracy: 0.8135\n",
      "Epoch 4/20\n",
      "500/500 [==============================] - 19s 37ms/step - loss: 0.3103 - accuracy: 0.8949 - val_loss: 0.4491 - val_accuracy: 0.8575\n",
      "Epoch 5/20\n",
      "500/500 [==============================] - 19s 37ms/step - loss: 0.2007 - accuracy: 0.9344 - val_loss: 0.4509 - val_accuracy: 0.8665\n",
      "Epoch 6/20\n",
      "500/500 [==============================] - 18s 37ms/step - loss: 0.1419 - accuracy: 0.9554 - val_loss: 0.4092 - val_accuracy: 0.8820\n",
      "Epoch 7/20\n",
      "500/500 [==============================] - 18s 37ms/step - loss: 0.1057 - accuracy: 0.9676 - val_loss: 0.4152 - val_accuracy: 0.8925\n",
      "Epoch 8/20\n",
      "500/500 [==============================] - 18s 37ms/step - loss: 0.0806 - accuracy: 0.9762 - val_loss: 0.4173 - val_accuracy: 0.8910\n",
      "Epoch 9/20\n",
      "500/500 [==============================] - 19s 37ms/step - loss: 0.0708 - accuracy: 0.9780 - val_loss: 0.4015 - val_accuracy: 0.8940\n",
      "Epoch 10/20\n",
      "500/500 [==============================] - 19s 38ms/step - loss: 0.0584 - accuracy: 0.9813 - val_loss: 0.4317 - val_accuracy: 0.8920\n",
      "Epoch 11/20\n",
      "500/500 [==============================] - 19s 37ms/step - loss: 0.0476 - accuracy: 0.9853 - val_loss: 0.4043 - val_accuracy: 0.8880\n"
     ]
    }
   ],
   "source": [
    "h = model.fit(\n",
    "    padded_train_seq, train_labels,\n",
    "    validation_data = (val_seq, val_labels),\n",
    "    epochs = 20,\n",
    "    callbacks = [tf.keras.callbacks.EarlyStopping(monitor = 'val_accuracy', patience = 2)]\n",
    ")"
   ]
  },
  {
   "cell_type": "markdown",
   "id": "84d1143a",
   "metadata": {},
   "source": [
    "# EVALUATING THE MODEL"
   ]
  },
  {
   "cell_type": "code",
   "execution_count": 67,
   "id": "10e0e6b0",
   "metadata": {},
   "outputs": [
    {
     "data": {
      "image/png": "[encoded data removed]",
      "text/plain": [
       "<Figure size 1152x432 with 2 Axes>"
      ]
     },
     "metadata": {
      "needs_background": "light"
     },
     "output_type": "display_data"
    }
   ],
   "source": [
    "show_history(h)"
   ]
  },
  {
   "cell_type": "code",
   "execution_count": 70,
   "id": "56c9c5dd",
   "metadata": {},
   "outputs": [],
   "source": [
    "test_tweets, test_labels = get_tweet(test)\n",
    "test_seq = get_sequences(tokenizer, test_tweets)\n",
    "test_labels = names_to_id(test_labels)"
   ]
  },
  {
   "cell_type": "code",
   "execution_count": 71,
   "id": "9fb90690",
   "metadata": {},
   "outputs": [
    {
     "name": "stdout",
     "output_type": "stream",
     "text": [
      "63/63 [==============================] - 1s 12ms/step - loss: 0.4676 - accuracy: 0.8735\n"
     ]
    }
   ],
   "source": [
    "_ = model.evaluate(test_seq, test_labels)"
   ]
  },
  {
   "cell_type": "code",
   "execution_count": 73,
   "id": "70dbd5d4",
   "metadata": {},
   "outputs": [
    {
     "name": "stdout",
     "output_type": "stream",
     "text": [
      "Sentence:  i miss not feeling exhausted after being outside in the heat for minutes\n",
      "Emotion sadness\n",
      "1/1 [==============================] - 0s 68ms/step\n",
      "Predicted Emotion sadness\n"
     ]
    }
   ],
   "source": [
    "i = random.randint(0, len(test_labels) - 1)\n",
    "\n",
    "print('Sentence: ', test_tweets[i])\n",
    "print('Emotion', index_to_class[test_labels[i]])\n",
    "\n",
    "p = model.predict(np.expand_dims(test_seq[i],axis=0))[0]\n",
    "pred_class = index_to_class[np.argmax(p).astype('uint8')]\n",
    "\n",
    "print('Predicted Emotion', pred_class)"
   ]
  },
  {
   "cell_type": "code",
   "execution_count": null,
   "id": "08e0dd34",
   "metadata": {},
   "outputs": [],
   "source": []
  }
 ],
 "metadata": {
  "kernelspec": {
   "display_name": "Python 3 (ipykernel)",
   "language": "python",
   "name": "python3"
  },
  "language_info": {
   "codemirror_mode": {
    "name": "ipython",
    "version": 3
   },
   "file_extension": ".py",
   "mimetype": "text/x-python",
   "name": "python",
   "nbconvert_exporter": "python",
   "pygments_lexer": "ipython3",
   "version": "3.10.0"
  }
 },
 "nbformat": 4,
 "nbformat_minor": 5
}
